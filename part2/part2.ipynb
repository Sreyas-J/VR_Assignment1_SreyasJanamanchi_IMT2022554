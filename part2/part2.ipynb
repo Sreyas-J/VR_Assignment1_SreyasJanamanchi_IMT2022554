{
 "cells": [
  {
   "cell_type": "code",
   "execution_count": 164,
   "metadata": {},
   "outputs": [],
   "source": [
    "import os\n",
    "import cv2\n",
    "import numpy as np"
   ]
  },
  {
   "cell_type": "code",
   "execution_count": 165,
   "metadata": {},
   "outputs": [],
   "source": [
    "def imgResize(img, width=600):\n",
    "    # Get image dimensions\n",
    "    h, w = img.shape[:2]\n",
    "    # Calculate new height while maintaining aspect ratio\n",
    "    aspect_ratio = width / float(w)\n",
    "    new_height = int(h * aspect_ratio)\n",
    "    # Resize and return the image\n",
    "    return cv2.resize(img, (width, new_height), interpolation=cv2.INTER_AREA)"
   ]
  },
  {
   "cell_type": "code",
   "execution_count": 166,
   "metadata": {},
   "outputs": [],
   "source": [
    "def crop(img):\n",
    "    # Convert image to grayscale\n",
    "    gray = cv2.cvtColor(img, cv2.COLOR_BGR2GRAY)\n",
    "    # Apply binary threshold\n",
    "    _, thresh = cv2.threshold(gray, 0, 255, cv2.THRESH_BINARY)\n",
    "    # Find external contours\n",
    "    contours, _ = cv2.findContours(thresh, cv2.RETR_EXTERNAL, cv2.CHAIN_APPROX_SIMPLE)\n",
    "    # Crop image based on the bounding rectangle of the first contou\n",
    "    if contours:\n",
    "        x, y, w, h = cv2.boundingRect(contours[0])\n",
    "        return img[y:y + h - 1, x:x + w - 1]\n",
    "    \n",
    "    return img"
   ]
  },
  {
   "cell_type": "code",
   "execution_count": 167,
   "metadata": {},
   "outputs": [],
   "source": [
    "def detectKP(img):\n",
    "    descriptor = cv2.SIFT_create()\n",
    "    # Detect keypoints and compute descriptors\n",
    "    kps, features = descriptor.detectAndCompute(img, None)\n",
    "    # Convert keypoints to float32 array\n",
    "    kps = np.float32([p.pt for p in kps])\n",
    "    return kps, features"
   ]
  },
  {
   "cell_type": "code",
   "execution_count": 168,
   "metadata": {},
   "outputs": [],
   "source": [
    "def matchKP(kpA, kpB, fA, fB, ratio, re_proj):\n",
    "    # Create a brute-force matcher\n",
    "    matcher = cv2.BFMatcher()\n",
    "\n",
    "    # Find initial matches using KNN with k=2\n",
    "    initMatches = matcher.knnMatch(fA, fB, 2)\n",
    "    matches = []\n",
    "\n",
    "    # Apply ratio test to filter good matches\n",
    "    for match in initMatches:\n",
    "        if len(match) == 2 and match[0].distance < match[1].distance * ratio:\n",
    "            matches.append((match[0].trainIdx, match[0].queryIdx))\n",
    "            \n",
    "    # Ensure there are enough matches to compute homograph\n",
    "    if len(matches) > 4:\n",
    "        # Extract matched keypoints\n",
    "        pA = np.float32([kpA[i] for (_, i) in matches])\n",
    "        pB = np.float32([kpB[i] for (i, _) in matches])  \n",
    "\n",
    "        # Compute homography matrix using RANSAC\n",
    "        H, status = cv2.findHomography(pA, pB, cv2.RANSAC, re_proj)\n",
    "        return matches, H, status\n",
    "    \n",
    "    return None"
   ]
  },
  {
   "cell_type": "code",
   "execution_count": 169,
   "metadata": {},
   "outputs": [],
   "source": [
    "def drawMatches(imgA, imgB, kpA, kpB, matches, status):\n",
    "    hA, wA = imgA.shape[:2]\n",
    "    hB, wB = imgB.shape[:2]\n",
    "\n",
    "    # Create a blank canvas large enough to fit both images side by side\n",
    "    complete = np.zeros((max(hA, hB), wA + wB, 3), dtype=\"uint8\")\n",
    "\n",
    "    # Place both images onto the canvas\n",
    "    complete[0:hA, 0:wA] = imgA\n",
    "    complete[0:hB, wA:] = imgB\n",
    "\n",
    "    # Draw lines between matched keypoints\n",
    "    for ((idB, idA), s) in zip(matches, status):\n",
    "        if s == 1:\n",
    "            # Draw red line between matched points\n",
    "            ptA = (int(kpA[idA][0]), int(kpA[idA][1]))\n",
    "            ptB = (int(kpB[idB][0]) + wA, int(kpB[idB][1]))\n",
    "            cv2.line(complete, ptA, ptB, (0, 0, 255), 1)\n",
    "\n",
    "    return complete"
   ]
  },
  {
   "cell_type": "code",
   "execution_count": 170,
   "metadata": {},
   "outputs": [],
   "source": [
    "def stitch(imgA, imgB, ratio=0.6, re_proj=3.0):\n",
    "    # Detect keypoints and extract features\n",
    "    kpA, fA = detectKP(imgA)\n",
    "    kpB, fB = detectKP(imgB)\n",
    "\n",
    "    # Match keypoints between the two images\n",
    "    M = matchKP(kpA, kpB, fA, fB, ratio, re_proj)\n",
    "\n",
    "    if M is None:\n",
    "        print(\"Insufficient matches found\")\n",
    "        return None\n",
    "    \n",
    "    matches, H, status = M\n",
    "    # Warp the first image using the homography matrix to align with the second image\n",
    "    panorama = cv2.warpPerspective(imgA, H, (imgA.shape[1] + imgB.shape[1], max(imgA.shape[0], imgB.shape[0])))\n",
    "\n",
    "    # Overlay the second image onto the warped first image\n",
    "    panorama[0:imgB.shape[0], 0:imgB.shape[1]] = imgB\n",
    "\n",
    "    # Crop the final stitched image to remove unnecessary black areas\n",
    "    panorama = crop(panorama)\n",
    "\n",
    "    # Draw matches between the two images for visualization\n",
    "    complete = drawMatches(imgA, imgB, kpA, kpB, matches, status)\n",
    "    return panorama,complete"
   ]
  },
  {
   "cell_type": "code",
   "execution_count": 171,
   "metadata": {},
   "outputs": [],
   "source": [
    "#clearing output folder\n",
    "output_folder=\"out\"\n",
    "for file_name in os.listdir(output_folder):\n",
    "    file_path = os.path.join(output_folder, file_name)\n",
    "    \n",
    "    if os.path.isfile(file_path):\n",
    "        os.remove(file_path)"
   ]
  },
  {
   "cell_type": "code",
   "execution_count": 172,
   "metadata": {},
   "outputs": [
    {
     "data": {
      "text/plain": [
       "True"
      ]
     },
     "execution_count": 172,
     "metadata": {},
     "output_type": "execute_result"
    }
   ],
   "source": [
    "input_folder=\"in2\"\n",
    "files = [\"row-1-column-3.jpg\",\"row-1-column-2.jpg\",\"row-1-column-1.jpg\"]\n",
    "path = [os.path.join(input_folder, f) for f in files]\n",
    "#loading the 1st image\n",
    "im1 = cv2.imread(path[0])\n",
    "im1 = imgResize(im1)\n",
    "\n",
    "#iteratively stitching images\n",
    "for i in range(1, len(path)):\n",
    "    im2 = cv2.imread(path[i])\n",
    "    im2 = imgResize(im2)\n",
    "    res = stitch(im1, im2)\n",
    "    if res is None:\n",
    "        print(\"None\")\n",
    "        continue\n",
    "    \n",
    "    im1, complete = res    \n",
    "    cv2.imwrite(os.path.join(output_folder, f\"match{i}.jpg\"), complete)\n",
    "\n",
    "cv2.imwrite(os.path.join(output_folder, f\"panorama.jpg\"), im1)"
   ]
  }
 ],
 "metadata": {
  "kernelspec": {
   "display_name": "VR",
   "language": "python",
   "name": "python3"
  },
  "language_info": {
   "codemirror_mode": {
    "name": "ipython",
    "version": 3
   },
   "file_extension": ".py",
   "mimetype": "text/x-python",
   "name": "python",
   "nbconvert_exporter": "python",
   "pygments_lexer": "ipython3",
   "version": "3.13.1"
  }
 },
 "nbformat": 4,
 "nbformat_minor": 2
}

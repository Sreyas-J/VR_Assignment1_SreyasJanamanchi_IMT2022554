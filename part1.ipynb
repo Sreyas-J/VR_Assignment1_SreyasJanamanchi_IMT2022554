{
 "cells": [
  {
   "cell_type": "code",
   "execution_count": 79,
   "metadata": {},
   "outputs": [],
   "source": [
    "import cv2\n",
    "import numpy as np"
   ]
  },
  {
   "cell_type": "code",
   "execution_count": 80,
   "metadata": {},
   "outputs": [],
   "source": [
    "img=cv2.imread(\"coins.jpeg\")\n",
    "\n",
    "if img is None:\n",
    "    print(\"Error: Image not found or unable to load\")\n",
    "\n",
    "max_size = max(img.shape[:2]) \n",
    "scale = 700 / max_size if max_size > 700 else 1\n",
    "img_resized = cv2.resize(img, (0, 0), fx=scale, fy=scale)"
   ]
  },
  {
   "cell_type": "code",
   "execution_count": 81,
   "metadata": {},
   "outputs": [],
   "source": [
    "gray = cv2.cvtColor(img_resized, cv2.COLOR_BGR2GRAY)\n",
    "    \n",
    "    # Apply Gaussian Blur to reduce noise\n",
    "blurred = cv2.GaussianBlur(gray, (5, 5), 0)\n",
    "binary_img = cv2.adaptiveThreshold(\n",
    "    blurred, 255, cv2.ADAPTIVE_THRESH_GAUSSIAN_C, cv2.THRESH_BINARY_INV, 11, 2\n",
    ")\n",
    "\n",
    "kernel = np.ones((3, 3), np.uint8)\n",
    "closed = cv2.morphologyEx(binary_img, cv2.MORPH_CLOSE, kernel, iterations=2)\n",
    "\n",
    "cv2.imshow(\"Edges\", binary_img)\n",
    "cv2.waitKey(0)  # Wait for a key press\n",
    "cv2.destroyAllWindows() "
   ]
  },
  {
   "cell_type": "code",
   "execution_count": 82,
   "metadata": {},
   "outputs": [
    {
     "name": "stdout",
     "output_type": "stream",
     "text": [
      "14.717896962706652\n",
      "0.5390120920947209 0.5\n",
      "0.5390120952601716 1.0\n",
      "0.41923162718478296 3.5\n",
      "0.5715045502581996 2.5\n",
      "0.34759871469583076 12.0\n",
      "0.3252234356020246 10.0\n",
      "0.11227055861809261 5.0\n",
      "0.12092828481264367 3.5\n",
      "0.11430091005163992 0.5\n",
      "0.5449705313375665 6.5\n",
      "0.5390120952601716 1.0\n",
      "0.0 0.0\n",
      "0.17914334800842904 10.0\n",
      "0.6430287075658971 1.5\n",
      "0.2734046554276676 5.5\n",
      "0.6430287075658971 1.5\n",
      "0.0 0.0\n",
      "0.48368704557039216 1.5\n",
      "0.0 0.0\n",
      "0.0 0.0\n",
      "0.3665282226244102 8.5\n",
      "0.6108759556927862 8.0\n",
      "0.0 0.0\n",
      "0.21434290252196572 8.0\n",
      "0.26950604604736045 1.0\n",
      "0.0 0.0\n",
      "0.0 0.0\n",
      "0.46112891113178694 5.5\n",
      "0.5390120920947209 0.5\n",
      "0.8001063703614794 3.5\n",
      "0.21434290252196572 2.0\n",
      "0.5643015462265515 14.0\n",
      "0.0 0.0\n",
      "0.21434290252196572 0.5\n",
      "0.13763803409759215 14.5\n",
      "0.2982596215990625 12.0\n",
      "0.6108759556927862 8.0\n",
      "0.5390120920947209 0.5\n",
      "0.5687171522971307 14.5\n",
      "0.6380493753606354 4.5\n",
      "0.09247985475540646 0.5\n",
      "0.6981317007977318 2.0\n",
      "0.46461165033847796 7.5\n",
      "0.6430287075658971 1.5\n",
      "0.0 0.0\n",
      "0.5715045502581996 2.5\n",
      "0.0 0.0\n",
      "0.3042877806238066 5.5\n",
      "0.0 0.0\n",
      "0.32823391592003287 9.5\n",
      "0.8001063703614794 3.5\n",
      "0.5390120920947209 0.5\n",
      "0.26950604604736045 1.0\n",
      "0.21434290602589057 1.0\n",
      "0.7785730219145969 6.5\n",
      "0.16122901519013072 0.5\n",
      "0.4000531851807397 7.0\n",
      "0.0 0.0\n",
      "0.15547922333054187 4.5\n",
      "0.0 0.0\n",
      "0.299451162274845 2.5\n",
      "0.8085181381420813 3.0\n"
     ]
    }
   ],
   "source": [
    "detected_objects, _ = cv2.findContours(closed, cv2.RETR_EXTERNAL, cv2.CHAIN_APPROX_SIMPLE)\n",
    "contours = img_resized.copy()\n",
    "\n",
    "# cv2.drawContours(contours, detected_objects, -1, (0, 0, 255), 2)\n",
    "# cv2.imshow(\"Contours\",contours)\n",
    "# cv2.waitKey(0)  # Wait for a key press\n",
    "# cv2.destroyAllWindows() \n",
    "\n",
    "min_area = 500 * (scale ** 2)\n",
    "print(min_area)\n",
    "circular_shapes = []\n",
    "for obj in detected_objects:\n",
    "    perimeter = cv2.arcLength(obj, True)\n",
    "    area = cv2.contourArea(obj)\n",
    "    if perimeter > 0:\n",
    "        circularity = 4 * np.pi * (area / (perimeter ** 2))\n",
    "        if circularity < 1.2 and area > min_area:\n",
    "            circular_shapes.append(obj)\n",
    "        else:\n",
    "            print(circularity,area)\n",
    "\n",
    "# print(circular_shapes)"
   ]
  },
  {
   "cell_type": "code",
   "execution_count": 83,
   "metadata": {},
   "outputs": [
    {
     "data": {
      "text/plain": [
       "True"
      ]
     },
     "execution_count": 83,
     "metadata": {},
     "output_type": "execute_result"
    }
   ],
   "source": [
    "result_img = img_resized.copy()\n",
    "    \n",
    "cv2.drawContours(result_img, circular_shapes, -1, (0, 0, 255), 2)\n",
    "save_path=\"outline/outline.jpeg\"\n",
    "cv2.imwrite(save_path, result_img)\n",
    "\n",
    "result_img = img_resized.copy()\n",
    "mask_layer = np.zeros(result_img.shape[:2], dtype=np.uint8)\n",
    "mask_3ch = cv2.cvtColor(mask_layer, cv2.COLOR_GRAY2BGR)\n",
    "masked_result = cv2.bitwise_and(img_resized, mask_3ch)\n",
    "cv2.drawContours(mask_layer, circular_shapes, -1, 255, thickness=cv2.FILLED)\n",
    "result_img = cv2.bitwise_and(result_img, result_img, mask=mask_layer)\n",
    "\n",
    "save_path=\"contours/contours.jpeg\"\n",
    "cv2.imwrite(save_path, result_img)"
   ]
  },
  {
   "cell_type": "code",
   "execution_count": null,
   "metadata": {},
   "outputs": [],
   "source": []
  }
 ],
 "metadata": {
  "kernelspec": {
   "display_name": "VR",
   "language": "python",
   "name": "python3"
  },
  "language_info": {
   "codemirror_mode": {
    "name": "ipython",
    "version": 3
   },
   "file_extension": ".py",
   "mimetype": "text/x-python",
   "name": "python",
   "nbconvert_exporter": "python",
   "pygments_lexer": "ipython3",
   "version": "3.13.1"
  }
 },
 "nbformat": 4,
 "nbformat_minor": 2
}

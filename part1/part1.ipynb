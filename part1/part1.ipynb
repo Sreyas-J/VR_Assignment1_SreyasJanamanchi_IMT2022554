{
 "cells": [
  {
   "cell_type": "code",
   "execution_count": 8,
   "metadata": {},
   "outputs": [],
   "source": [
    "import cv2\n",
    "import numpy as np\n",
    "import os"
   ]
  },
  {
   "cell_type": "code",
   "execution_count": 9,
   "metadata": {},
   "outputs": [],
   "source": [
    "#clearing output folder\n",
    "folder_path=\"segmentedCoins\"\n",
    "for file_name in os.listdir(folder_path):\n",
    "    file_path = os.path.join(folder_path, file_name)\n",
    "    \n",
    "    if os.path.isfile(file_path):\n",
    "        os.remove(file_path)"
   ]
  },
  {
   "cell_type": "code",
   "execution_count": 10,
   "metadata": {},
   "outputs": [],
   "source": [
    "img=cv2.imread(\"coins2.jpeg\")\n",
    "\n",
    "if img is None:\n",
    "    print(\"Error: Image not found or unable to load\")\n",
    "\n",
    "# Determine the maximum dimension (height or width) of the image\n",
    "max_size = max(img.shape[:2]) \n",
    "\n",
    "# Scale the image down if its largest dimension exceeds 700 pixels\n",
    "scale = 700 / max_size if max_size > 700 else 1\n",
    "# Resize the image while maintaining the aspect ratio\n",
    "img_resized = cv2.resize(img, (0, 0), fx=scale, fy=scale)"
   ]
  },
  {
   "cell_type": "code",
   "execution_count": 11,
   "metadata": {},
   "outputs": [],
   "source": [
    "# Convert the resized image to grayscale\n",
    "gray = cv2.cvtColor(img_resized, cv2.COLOR_BGR2GRAY)\n",
    "    \n",
    "# Apply Gaussian blur to reduce noise and smooth the image\n",
    "blurred = cv2.GaussianBlur(gray, (5, 5), 0)\n",
    "# Apply adaptive thresholding to create a binary image\n",
    "binary_img = cv2.adaptiveThreshold(\n",
    "    blurred, 255, cv2.ADAPTIVE_THRESH_GAUSSIAN_C, cv2.THRESH_BINARY_INV, 11, 2\n",
    ")\n",
    "\n",
    "kernel = np.ones((3, 3), np.uint8)\n",
    "# Apply morphological closing to fill small gaps in the binary image\n",
    "closed = cv2.morphologyEx(binary_img, cv2.MORPH_CLOSE, kernel, iterations=2)"
   ]
  },
  {
   "cell_type": "code",
   "execution_count": 12,
   "metadata": {},
   "outputs": [],
   "source": [
    "detected_objects, _ = cv2.findContours(closed, cv2.RETR_EXTERNAL, cv2.CHAIN_APPROX_SIMPLE)\n",
    "contours = img_resized.copy()\n",
    "\n",
    "min_area = 500 * (scale ** 2)\n",
    "circular_shapes = []\n",
    "# Iterate through detected contours\n",
    "for obj in detected_objects:\n",
    "    perimeter = cv2.arcLength(obj, True)\n",
    "    area = cv2.contourArea(obj)\n",
    "    #remove erroneous contours\n",
    "    if perimeter > 0:\n",
    "        circularity = 4 * np.pi * (area / (perimeter ** 2))\n",
    "        if circularity < 1.2 and area > min_area:\n",
    "            circular_shapes.append(obj)\n"
   ]
  },
  {
   "cell_type": "code",
   "execution_count": 13,
   "metadata": {},
   "outputs": [
    {
     "data": {
      "text/plain": [
       "True"
      ]
     },
     "execution_count": 13,
     "metadata": {},
     "output_type": "execute_result"
    }
   ],
   "source": [
    "result_img = img_resized.copy()\n",
    "    \n",
    "# Draw contours around detected circular shapes\n",
    "cv2.drawContours(result_img, circular_shapes, -1, (0, 0, 255), 2)\n",
    "save_path=\"outline/outline.jpeg\"\n",
    "cv2.imwrite(save_path, result_img)\n",
    "\n",
    "result_img = img_resized.copy()\n",
    "# Create a blank mask\n",
    "mask_layer = np.zeros(result_img.shape[:2], dtype=np.uint8)\n",
    "mask_3ch = cv2.cvtColor(mask_layer, cv2.COLOR_GRAY2BGR)\n",
    "masked_result = cv2.bitwise_and(img_resized, mask_3ch)\n",
    "# Fill detected circular shapes in the mask\n",
    "cv2.drawContours(mask_layer, circular_shapes, -1, 255, thickness=cv2.FILLED)\n",
    "# Apply the mask to the image to isolate detected shapes\n",
    "result_img = cv2.bitwise_and(result_img, result_img, mask=mask_layer)\n",
    "\n",
    "save_path=\"contours/contours.jpeg\"\n",
    "cv2.imwrite(save_path, result_img)"
   ]
  },
  {
   "cell_type": "code",
   "execution_count": 14,
   "metadata": {},
   "outputs": [
    {
     "name": "stdout",
     "output_type": "stream",
     "text": [
      "Total number of coins in the image is:  3\n"
     ]
    }
   ],
   "source": [
    "segmented_coins = []\n",
    "# Loop through each detected circular shape\n",
    "for i, cnt in enumerate(circular_shapes):\n",
    "    # Find the minimum enclosing circle for the contour\n",
    "    (x, y), r = cv2.minEnclosingCircle(cnt)\n",
    "    c = (int(x), int(y)) \n",
    "    r = int(r)\n",
    "    # Create a blank mask\n",
    "    mask = np.zeros_like(img_resized, dtype=np.uint8)\n",
    "    # Draw a filled white circle on the mask to isolate the coin\n",
    "    cv2.circle(mask, c, r, (255, 255, 255), -1) \n",
    "    # Apply the mask to extract the coin region from the image\n",
    "    coin_segment = cv2.bitwise_and(img_resized, mask)\n",
    "    \n",
    "    x1, y1 = c[0] - r, c[1] - r\n",
    "    x2, y2 = c[0] + r, c[1] + r\n",
    "    # Crop the coin region from the masked image\n",
    "    coin_segment = coin_segment[y1:y2, x1:x2]\n",
    "    segmented_coins.append(coin_segment)\n",
    "    \n",
    "    coin_path = os.path.join(\"segmentedCoins\", f\"coin_{i+1}.jpg\")\n",
    "    cv2.imwrite(coin_path, coin_segment)\n",
    "\n",
    "# Print the total number of segmented coins\n",
    "print(\"Total number of coins in the image is: \",i+1)"
   ]
  }
 ],
 "metadata": {
  "kernelspec": {
   "display_name": "VR",
   "language": "python",
   "name": "python3"
  },
  "language_info": {
   "codemirror_mode": {
    "name": "ipython",
    "version": 3
   },
   "file_extension": ".py",
   "mimetype": "text/x-python",
   "name": "python",
   "nbconvert_exporter": "python",
   "pygments_lexer": "ipython3",
   "version": "3.13.1"
  }
 },
 "nbformat": 4,
 "nbformat_minor": 2
}
